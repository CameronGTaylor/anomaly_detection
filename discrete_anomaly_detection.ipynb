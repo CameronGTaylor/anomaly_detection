{
 "cells": [
  {
   "cell_type": "code",
   "execution_count": 1,
   "metadata": {},
   "outputs": [],
   "source": [
    "import pandas as pd\n",
    "import numpy as np\n",
    "import matplotlib.pyplot as plt\n",
    "import seaborn as sns"
   ]
  },
  {
   "cell_type": "code",
   "execution_count": 2,
   "metadata": {},
   "outputs": [],
   "source": [
    "plt.rc('figure',figsize=(14,8))"
   ]
  },
  {
   "cell_type": "code",
   "execution_count": 3,
   "metadata": {},
   "outputs": [],
   "source": [
    "colnames=['date', 'time', 'destination', 'user', 'uk', 'ip']\n",
    "df = pd.read_csv('curriculum-access.txt', sep=' ', header=None, \n",
    "               names=colnames)"
   ]
  },
  {
   "cell_type": "code",
   "execution_count": 4,
   "metadata": {},
   "outputs": [
    {
     "data": {
      "text/html": [
       "<div>\n",
       "<style scoped>\n",
       "    .dataframe tbody tr th:only-of-type {\n",
       "        vertical-align: middle;\n",
       "    }\n",
       "\n",
       "    .dataframe tbody tr th {\n",
       "        vertical-align: top;\n",
       "    }\n",
       "\n",
       "    .dataframe thead th {\n",
       "        text-align: right;\n",
       "    }\n",
       "</style>\n",
       "<table border=\"1\" class=\"dataframe\">\n",
       "  <thead>\n",
       "    <tr style=\"text-align: right;\">\n",
       "      <th></th>\n",
       "      <th>date</th>\n",
       "      <th>time</th>\n",
       "      <th>destination</th>\n",
       "      <th>user</th>\n",
       "      <th>uk</th>\n",
       "      <th>ip</th>\n",
       "    </tr>\n",
       "  </thead>\n",
       "  <tbody>\n",
       "    <tr>\n",
       "      <th>0</th>\n",
       "      <td>2018-01-26</td>\n",
       "      <td>09:55:03</td>\n",
       "      <td>/</td>\n",
       "      <td>1</td>\n",
       "      <td>8.0</td>\n",
       "      <td>98.106.20.62</td>\n",
       "    </tr>\n",
       "    <tr>\n",
       "      <th>1</th>\n",
       "      <td>2018-01-26</td>\n",
       "      <td>09:56:02</td>\n",
       "      <td>java-ii</td>\n",
       "      <td>1</td>\n",
       "      <td>8.0</td>\n",
       "      <td>98.106.20.62</td>\n",
       "    </tr>\n",
       "    <tr>\n",
       "      <th>2</th>\n",
       "      <td>2018-01-26</td>\n",
       "      <td>09:56:05</td>\n",
       "      <td>java-ii/object-oriented-programming</td>\n",
       "      <td>1</td>\n",
       "      <td>8.0</td>\n",
       "      <td>98.106.20.62</td>\n",
       "    </tr>\n",
       "    <tr>\n",
       "      <th>3</th>\n",
       "      <td>2018-01-26</td>\n",
       "      <td>09:56:06</td>\n",
       "      <td>slides/object_oriented_programming</td>\n",
       "      <td>1</td>\n",
       "      <td>8.0</td>\n",
       "      <td>98.106.20.62</td>\n",
       "    </tr>\n",
       "    <tr>\n",
       "      <th>4</th>\n",
       "      <td>2018-01-26</td>\n",
       "      <td>09:56:24</td>\n",
       "      <td>javascript-i/conditionals</td>\n",
       "      <td>2</td>\n",
       "      <td>22.0</td>\n",
       "      <td>98.106.20.62</td>\n",
       "    </tr>\n",
       "  </tbody>\n",
       "</table>\n",
       "</div>"
      ],
      "text/plain": [
       "         date      time                          destination  user    uk  \\\n",
       "0  2018-01-26  09:55:03                                    /     1   8.0   \n",
       "1  2018-01-26  09:56:02                              java-ii     1   8.0   \n",
       "2  2018-01-26  09:56:05  java-ii/object-oriented-programming     1   8.0   \n",
       "3  2018-01-26  09:56:06   slides/object_oriented_programming     1   8.0   \n",
       "4  2018-01-26  09:56:24            javascript-i/conditionals     2  22.0   \n",
       "\n",
       "             ip  \n",
       "0  98.106.20.62  \n",
       "1  98.106.20.62  \n",
       "2  98.106.20.62  \n",
       "3  98.106.20.62  \n",
       "4  98.106.20.62  "
      ]
     },
     "execution_count": 4,
     "metadata": {},
     "output_type": "execute_result"
    }
   ],
   "source": [
    "df.head()"
   ]
  },
  {
   "cell_type": "code",
   "execution_count": 5,
   "metadata": {},
   "outputs": [],
   "source": [
    "df['datetime'] = df.date.astype(str) + ' ' + df.time.astype(str)\n",
    "df.datetime = pd.to_datetime(df['datetime'])\n",
    "df = df.set_index('datetime')\n",
    "df = df.drop(columns=['date','time'])"
   ]
  },
  {
   "cell_type": "code",
   "execution_count": 6,
   "metadata": {},
   "outputs": [
    {
     "data": {
      "text/html": [
       "<div>\n",
       "<style scoped>\n",
       "    .dataframe tbody tr th:only-of-type {\n",
       "        vertical-align: middle;\n",
       "    }\n",
       "\n",
       "    .dataframe tbody tr th {\n",
       "        vertical-align: top;\n",
       "    }\n",
       "\n",
       "    .dataframe thead th {\n",
       "        text-align: right;\n",
       "    }\n",
       "</style>\n",
       "<table border=\"1\" class=\"dataframe\">\n",
       "  <thead>\n",
       "    <tr style=\"text-align: right;\">\n",
       "      <th></th>\n",
       "      <th>destination</th>\n",
       "      <th>user</th>\n",
       "      <th>uk</th>\n",
       "      <th>ip</th>\n",
       "    </tr>\n",
       "    <tr>\n",
       "      <th>datetime</th>\n",
       "      <th></th>\n",
       "      <th></th>\n",
       "      <th></th>\n",
       "      <th></th>\n",
       "    </tr>\n",
       "  </thead>\n",
       "  <tbody>\n",
       "    <tr>\n",
       "      <th>2018-01-26 09:55:03</th>\n",
       "      <td>/</td>\n",
       "      <td>1</td>\n",
       "      <td>8.0</td>\n",
       "      <td>98.106.20.62</td>\n",
       "    </tr>\n",
       "    <tr>\n",
       "      <th>2018-01-26 09:56:02</th>\n",
       "      <td>java-ii</td>\n",
       "      <td>1</td>\n",
       "      <td>8.0</td>\n",
       "      <td>98.106.20.62</td>\n",
       "    </tr>\n",
       "    <tr>\n",
       "      <th>2018-01-26 09:56:05</th>\n",
       "      <td>java-ii/object-oriented-programming</td>\n",
       "      <td>1</td>\n",
       "      <td>8.0</td>\n",
       "      <td>98.106.20.62</td>\n",
       "    </tr>\n",
       "    <tr>\n",
       "      <th>2018-01-26 09:56:06</th>\n",
       "      <td>slides/object_oriented_programming</td>\n",
       "      <td>1</td>\n",
       "      <td>8.0</td>\n",
       "      <td>98.106.20.62</td>\n",
       "    </tr>\n",
       "    <tr>\n",
       "      <th>2018-01-26 09:56:24</th>\n",
       "      <td>javascript-i/conditionals</td>\n",
       "      <td>2</td>\n",
       "      <td>22.0</td>\n",
       "      <td>98.106.20.62</td>\n",
       "    </tr>\n",
       "    <tr>\n",
       "      <th>2018-01-26 09:56:41</th>\n",
       "      <td>javascript-i/loops</td>\n",
       "      <td>2</td>\n",
       "      <td>22.0</td>\n",
       "      <td>98.106.20.62</td>\n",
       "    </tr>\n",
       "    <tr>\n",
       "      <th>2018-01-26 09:56:46</th>\n",
       "      <td>javascript-i/conditionals</td>\n",
       "      <td>3</td>\n",
       "      <td>22.0</td>\n",
       "      <td>98.106.20.62</td>\n",
       "    </tr>\n",
       "    <tr>\n",
       "      <th>2018-01-26 09:56:48</th>\n",
       "      <td>javascript-i/functions</td>\n",
       "      <td>3</td>\n",
       "      <td>22.0</td>\n",
       "      <td>98.106.20.62</td>\n",
       "    </tr>\n",
       "    <tr>\n",
       "      <th>2018-01-26 09:56:59</th>\n",
       "      <td>javascript-i/loops</td>\n",
       "      <td>2</td>\n",
       "      <td>22.0</td>\n",
       "      <td>98.106.20.62</td>\n",
       "    </tr>\n",
       "    <tr>\n",
       "      <th>2018-01-26 09:58:26</th>\n",
       "      <td>javascript-i/functions</td>\n",
       "      <td>4</td>\n",
       "      <td>22.0</td>\n",
       "      <td>98.106.20.62</td>\n",
       "    </tr>\n",
       "    <tr>\n",
       "      <th>2018-01-26 09:59:22</th>\n",
       "      <td>mkdocs/search_index.json</td>\n",
       "      <td>5</td>\n",
       "      <td>22.0</td>\n",
       "      <td>98.106.20.62</td>\n",
       "    </tr>\n",
       "    <tr>\n",
       "      <th>2018-01-26 10:00:02</th>\n",
       "      <td>javascript-i/introduction/working-with-data-ty...</td>\n",
       "      <td>6</td>\n",
       "      <td>22.0</td>\n",
       "      <td>98.106.20.62</td>\n",
       "    </tr>\n",
       "    <tr>\n",
       "      <th>2018-01-26 10:00:37</th>\n",
       "      <td>/</td>\n",
       "      <td>6</td>\n",
       "      <td>22.0</td>\n",
       "      <td>98.106.20.62</td>\n",
       "    </tr>\n",
       "    <tr>\n",
       "      <th>2018-01-26 10:00:39</th>\n",
       "      <td>javascript-i</td>\n",
       "      <td>6</td>\n",
       "      <td>22.0</td>\n",
       "      <td>98.106.20.62</td>\n",
       "    </tr>\n",
       "    <tr>\n",
       "      <th>2018-01-26 10:00:44</th>\n",
       "      <td>javascript-i/introduction/working-with-data-ty...</td>\n",
       "      <td>6</td>\n",
       "      <td>22.0</td>\n",
       "      <td>98.106.20.62</td>\n",
       "    </tr>\n",
       "  </tbody>\n",
       "</table>\n",
       "</div>"
      ],
      "text/plain": [
       "                                                           destination  user  \\\n",
       "datetime                                                                       \n",
       "2018-01-26 09:55:03                                                  /     1   \n",
       "2018-01-26 09:56:02                                            java-ii     1   \n",
       "2018-01-26 09:56:05                java-ii/object-oriented-programming     1   \n",
       "2018-01-26 09:56:06                 slides/object_oriented_programming     1   \n",
       "2018-01-26 09:56:24                          javascript-i/conditionals     2   \n",
       "2018-01-26 09:56:41                                 javascript-i/loops     2   \n",
       "2018-01-26 09:56:46                          javascript-i/conditionals     3   \n",
       "2018-01-26 09:56:48                             javascript-i/functions     3   \n",
       "2018-01-26 09:56:59                                 javascript-i/loops     2   \n",
       "2018-01-26 09:58:26                             javascript-i/functions     4   \n",
       "2018-01-26 09:59:22                           mkdocs/search_index.json     5   \n",
       "2018-01-26 10:00:02  javascript-i/introduction/working-with-data-ty...     6   \n",
       "2018-01-26 10:00:37                                                  /     6   \n",
       "2018-01-26 10:00:39                                       javascript-i     6   \n",
       "2018-01-26 10:00:44  javascript-i/introduction/working-with-data-ty...     6   \n",
       "\n",
       "                       uk            ip  \n",
       "datetime                                 \n",
       "2018-01-26 09:55:03   8.0  98.106.20.62  \n",
       "2018-01-26 09:56:02   8.0  98.106.20.62  \n",
       "2018-01-26 09:56:05   8.0  98.106.20.62  \n",
       "2018-01-26 09:56:06   8.0  98.106.20.62  \n",
       "2018-01-26 09:56:24  22.0  98.106.20.62  \n",
       "2018-01-26 09:56:41  22.0  98.106.20.62  \n",
       "2018-01-26 09:56:46  22.0  98.106.20.62  \n",
       "2018-01-26 09:56:48  22.0  98.106.20.62  \n",
       "2018-01-26 09:56:59  22.0  98.106.20.62  \n",
       "2018-01-26 09:58:26  22.0  98.106.20.62  \n",
       "2018-01-26 09:59:22  22.0  98.106.20.62  \n",
       "2018-01-26 10:00:02  22.0  98.106.20.62  \n",
       "2018-01-26 10:00:37  22.0  98.106.20.62  \n",
       "2018-01-26 10:00:39  22.0  98.106.20.62  \n",
       "2018-01-26 10:00:44  22.0  98.106.20.62  "
      ]
     },
     "execution_count": 6,
     "metadata": {},
     "output_type": "execute_result"
    }
   ],
   "source": [
    "df.head(15)"
   ]
  },
  {
   "cell_type": "code",
   "execution_count": 7,
   "metadata": {},
   "outputs": [
    {
     "data": {
      "text/plain": [
       "(543596, 4)"
      ]
     },
     "execution_count": 7,
     "metadata": {},
     "output_type": "execute_result"
    }
   ],
   "source": [
    "df.shape"
   ]
  },
  {
   "cell_type": "code",
   "execution_count": 8,
   "metadata": {},
   "outputs": [
    {
     "name": "stdout",
     "output_type": "stream",
     "text": [
      "<class 'pandas.core.frame.DataFrame'>\n",
      "DatetimeIndex: 543596 entries, 2018-01-26 09:55:03 to 2020-05-15 15:06:05\n",
      "Data columns (total 4 columns):\n",
      "destination    543595 non-null object\n",
      "user           543596 non-null int64\n",
      "uk             515740 non-null float64\n",
      "ip             543596 non-null object\n",
      "dtypes: float64(1), int64(1), object(2)\n",
      "memory usage: 20.7+ MB\n"
     ]
    }
   ],
   "source": [
    "df.info()"
   ]
  },
  {
   "cell_type": "code",
   "execution_count": 9,
   "metadata": {},
   "outputs": [
    {
     "data": {
      "text/plain": [
       "1.0      8882\n",
       "2.0        93\n",
       "4.0         4\n",
       "5.0         1\n",
       "6.0        72\n",
       "7.0       495\n",
       "8.0      1712\n",
       "9.0         5\n",
       "11.0      204\n",
       "12.0      270\n",
       "13.0     2626\n",
       "14.0     9374\n",
       "15.0      691\n",
       "16.0      743\n",
       "17.0     4821\n",
       "18.0     1641\n",
       "19.0     1165\n",
       "21.0     7411\n",
       "22.0    28997\n",
       "23.0    28193\n",
       "24.0    35336\n",
       "25.0    25364\n",
       "26.0    27586\n",
       "27.0    20264\n",
       "28.0    37409\n",
       "29.0    36613\n",
       "31.0    24322\n",
       "32.0    27920\n",
       "33.0    38851\n",
       "34.0    23845\n",
       "51.0    26389\n",
       "52.0    26212\n",
       "53.0    29992\n",
       "55.0    14252\n",
       "56.0    14438\n",
       "57.0     9547\n",
       "NaN     27856\n",
       "Name: uk, dtype: int64"
      ]
     },
     "execution_count": 9,
     "metadata": {},
     "output_type": "execute_result"
    }
   ],
   "source": [
    "df.uk.value_counts(dropna=False).sort_index()"
   ]
  },
  {
   "cell_type": "code",
   "execution_count": 10,
   "metadata": {},
   "outputs": [],
   "source": [
    "dfna = df[df.uk.isnull()]"
   ]
  },
  {
   "cell_type": "code",
   "execution_count": 11,
   "metadata": {},
   "outputs": [
    {
     "data": {
      "text/plain": [
       "/                                                                   2961\n",
       "search/search_index.json                                            1515\n",
       "Intro_to_Regression_Module                                           397\n",
       "Regression_Python                                                    355\n",
       "3.0-mysql-overview                                                   309\n",
       "                                                                    ... \n",
       "12-distributed-ml/6-ml-with-spark                                      1\n",
       "12-distributed-ml/read-jdbc                                            1\n",
       "content/php_i/intro-via-interactive-shell/exiting-the-shell.html       1\n",
       "9-anomaly-detection/3-detecting-timeseries-anomalies                   1\n",
       "7-classification/5-explore                                             1\n",
       "Name: destination, Length: 923, dtype: int64"
      ]
     },
     "execution_count": 11,
     "metadata": {},
     "output_type": "execute_result"
    }
   ],
   "source": [
    "dfna.destination.value_counts()"
   ]
  },
  {
   "cell_type": "code",
   "execution_count": 12,
   "metadata": {},
   "outputs": [
    {
     "data": {
      "text/plain": [
       "<matplotlib.axes._subplots.AxesSubplot at 0x133dcd890>"
      ]
     },
     "execution_count": 12,
     "metadata": {},
     "output_type": "execute_result"
    },
    {
     "data": {
      "image/png": "[encoded data removed]",
      "text/plain": [
       "<Figure size 1008x576 with 1 Axes>"
      ]
     },
     "metadata": {
      "needs_background": "light"
     },
     "output_type": "display_data"
    }
   ],
   "source": [
    "dfna.destination.value_counts().hist(bins=50)"
   ]
  },
  {
   "cell_type": "code",
   "execution_count": 13,
   "metadata": {},
   "outputs": [],
   "source": [
    "df_new = df[df.uk == 57]"
   ]
  },
  {
   "cell_type": "code",
   "execution_count": 14,
   "metadata": {},
   "outputs": [
    {
     "data": {
      "text/plain": [
       "619      1\n",
       "621    528\n",
       "622    397\n",
       "623    178\n",
       "624    197\n",
       "625    302\n",
       "626    211\n",
       "627    637\n",
       "628    261\n",
       "629    297\n",
       "630    296\n",
       "631    300\n",
       "632    553\n",
       "633    447\n",
       "634    489\n",
       "635    434\n",
       "636    311\n",
       "637    514\n",
       "638    334\n",
       "639    317\n",
       "640    782\n",
       "641    436\n",
       "642    162\n",
       "643    312\n",
       "644    426\n",
       "645    425\n",
       "Name: user, dtype: int64"
      ]
     },
     "execution_count": 14,
     "metadata": {},
     "output_type": "execute_result"
    }
   ],
   "source": [
    "df_new.user.value_counts().sort_index()"
   ]
  },
  {
   "cell_type": "code",
   "execution_count": 15,
   "metadata": {},
   "outputs": [],
   "source": [
    "high_use = df.user.value_counts(dropna=False)\\\n",
    "            [(df.user.value_counts(dropna=False) > 2000)].index.tolist()\n",
    "# sorted(high_use)"
   ]
  },
  {
   "cell_type": "code",
   "execution_count": 16,
   "metadata": {},
   "outputs": [
    {
     "data": {
      "text/plain": [
       "1.0      7615\n",
       "8.0      1617\n",
       "14.0     8197\n",
       "17.0     3549\n",
       "19.0       75\n",
       "23.0     3495\n",
       "24.0     2308\n",
       "26.0    11108\n",
       "27.0     2061\n",
       "28.0    30297\n",
       "29.0    15051\n",
       "32.0    12813\n",
       "33.0     6756\n",
       "34.0     2120\n",
       "51.0     2169\n",
       "52.0     5501\n",
       "53.0     9927\n",
       "NaN      7257\n",
       "Name: uk, dtype: int64"
      ]
     },
     "execution_count": 16,
     "metadata": {},
     "output_type": "execute_result"
    }
   ],
   "source": [
    "df.uk[df.user.isin(high_use)].value_counts(dropna=False).sort_index()"
   ]
  },
  {
   "cell_type": "code",
   "execution_count": 17,
   "metadata": {},
   "outputs": [
    {
     "data": {
      "text/plain": [
       "<matplotlib.axes._subplots.AxesSubplot at 0x12c1c9290>"
      ]
     },
     "execution_count": 17,
     "metadata": {},
     "output_type": "execute_result"
    },
    {
     "data": {
      "image/png": "[encoded data removed]",
      "text/plain": [
       "<Figure size 1008x576 with 1 Axes>"
      ]
     },
     "metadata": {
      "needs_background": "light"
     },
     "output_type": "display_data"
    }
   ],
   "source": [
    "df.user[df.user.isin(high_use)].hist(bins = len(high_use))"
   ]
  },
  {
   "cell_type": "code",
   "execution_count": 18,
   "metadata": {},
   "outputs": [
    {
     "data": {
      "text/plain": [
       "<matplotlib.axes._subplots.AxesSubplot at 0x12a6342d0>"
      ]
     },
     "execution_count": 18,
     "metadata": {},
     "output_type": "execute_result"
    },
    {
     "data": {
      "image/png": "[encoded data removed]",
      "text/plain": [
       "<Figure size 1008x576 with 1 Axes>"
      ]
     },
     "metadata": {
      "needs_background": "light"
     },
     "output_type": "display_data"
    }
   ],
   "source": [
    "df.uk.hist(bins=len(df.uk.value_counts()))"
   ]
  },
  {
   "cell_type": "code",
   "execution_count": 19,
   "metadata": {},
   "outputs": [],
   "source": [
    "ip_df = pd.DataFrame(df.ip.value_counts(dropna=False)).reset_index()\\\n",
    "                    .rename(index=str, \n",
    "                       columns={'index': 'ip', 'ip': 'ip_count'})\n",
    "ip_df2 = pd.DataFrame(df.ip.value_counts(dropna=False)/df.ip.count())\\\n",
    "                    .reset_index().rename(index=str, \n",
    "                       columns={'index': 'ip', 'ip': 'ip_proba'})\n",
    "ip_df = ip_df.merge(ip_df2)"
   ]
  },
  {
   "cell_type": "code",
   "execution_count": 20,
   "metadata": {},
   "outputs": [
    {
     "data": {
      "text/html": [
       "<div>\n",
       "<style scoped>\n",
       "    .dataframe tbody tr th:only-of-type {\n",
       "        vertical-align: middle;\n",
       "    }\n",
       "\n",
       "    .dataframe tbody tr th {\n",
       "        vertical-align: top;\n",
       "    }\n",
       "\n",
       "    .dataframe thead th {\n",
       "        text-align: right;\n",
       "    }\n",
       "</style>\n",
       "<table border=\"1\" class=\"dataframe\">\n",
       "  <thead>\n",
       "    <tr style=\"text-align: right;\">\n",
       "      <th></th>\n",
       "      <th>ip</th>\n",
       "      <th>ip_count</th>\n",
       "      <th>ip_proba</th>\n",
       "    </tr>\n",
       "  </thead>\n",
       "  <tbody>\n",
       "    <tr>\n",
       "      <th>0</th>\n",
       "      <td>98.106.20.59</td>\n",
       "      <td>284579</td>\n",
       "      <td>0.523512</td>\n",
       "    </tr>\n",
       "    <tr>\n",
       "      <th>1</th>\n",
       "      <td>98.106.20.62</td>\n",
       "      <td>61662</td>\n",
       "      <td>0.113434</td>\n",
       "    </tr>\n",
       "    <tr>\n",
       "      <th>2</th>\n",
       "      <td>193.172.118.211</td>\n",
       "      <td>9029</td>\n",
       "      <td>0.016610</td>\n",
       "    </tr>\n",
       "    <tr>\n",
       "      <th>3</th>\n",
       "      <td>13.107.209.195</td>\n",
       "      <td>4219</td>\n",
       "      <td>0.007761</td>\n",
       "    </tr>\n",
       "    <tr>\n",
       "      <th>4</th>\n",
       "      <td>173.125.68.94</td>\n",
       "      <td>2980</td>\n",
       "      <td>0.005482</td>\n",
       "    </tr>\n",
       "    <tr>\n",
       "      <th>...</th>\n",
       "      <td>...</td>\n",
       "      <td>...</td>\n",
       "      <td>...</td>\n",
       "    </tr>\n",
       "    <tr>\n",
       "      <th>3490</th>\n",
       "      <td>135.197.45.27</td>\n",
       "      <td>1</td>\n",
       "      <td>0.000002</td>\n",
       "    </tr>\n",
       "    <tr>\n",
       "      <th>3491</th>\n",
       "      <td>72.43.231.163</td>\n",
       "      <td>1</td>\n",
       "      <td>0.000002</td>\n",
       "    </tr>\n",
       "    <tr>\n",
       "      <th>3492</th>\n",
       "      <td>73.191.183.109</td>\n",
       "      <td>1</td>\n",
       "      <td>0.000002</td>\n",
       "    </tr>\n",
       "    <tr>\n",
       "      <th>3493</th>\n",
       "      <td>186.246.88.159</td>\n",
       "      <td>1</td>\n",
       "      <td>0.000002</td>\n",
       "    </tr>\n",
       "    <tr>\n",
       "      <th>3494</th>\n",
       "      <td>185.204.150.108</td>\n",
       "      <td>1</td>\n",
       "      <td>0.000002</td>\n",
       "    </tr>\n",
       "  </tbody>\n",
       "</table>\n",
       "<p>3495 rows × 3 columns</p>\n",
       "</div>"
      ],
      "text/plain": [
       "                   ip  ip_count  ip_proba\n",
       "0        98.106.20.59    284579  0.523512\n",
       "1        98.106.20.62     61662  0.113434\n",
       "2     193.172.118.211      9029  0.016610\n",
       "3      13.107.209.195      4219  0.007761\n",
       "4       173.125.68.94      2980  0.005482\n",
       "...               ...       ...       ...\n",
       "3490    135.197.45.27         1  0.000002\n",
       "3491    72.43.231.163         1  0.000002\n",
       "3492   73.191.183.109         1  0.000002\n",
       "3493   186.246.88.159         1  0.000002\n",
       "3494  185.204.150.108         1  0.000002\n",
       "\n",
       "[3495 rows x 3 columns]"
      ]
     },
     "execution_count": 20,
     "metadata": {},
     "output_type": "execute_result"
    }
   ],
   "source": [
    "ip_df"
   ]
  },
  {
   "cell_type": "code",
   "execution_count": 21,
   "metadata": {},
   "outputs": [
    {
     "data": {
      "text/plain": [
       "543596"
      ]
     },
     "execution_count": 21,
     "metadata": {},
     "output_type": "execute_result"
    }
   ],
   "source": [
    "ip_df.ip_count.sum()"
   ]
  },
  {
   "cell_type": "code",
   "execution_count": 22,
   "metadata": {},
   "outputs": [
    {
     "data": {
      "text/html": [
       "<div>\n",
       "<style scoped>\n",
       "    .dataframe tbody tr th:only-of-type {\n",
       "        vertical-align: middle;\n",
       "    }\n",
       "\n",
       "    .dataframe tbody tr th {\n",
       "        vertical-align: top;\n",
       "    }\n",
       "\n",
       "    .dataframe thead th {\n",
       "        text-align: right;\n",
       "    }\n",
       "</style>\n",
       "<table border=\"1\" class=\"dataframe\">\n",
       "  <thead>\n",
       "    <tr style=\"text-align: right;\">\n",
       "      <th></th>\n",
       "      <th>ip</th>\n",
       "      <th>ip_count</th>\n",
       "      <th>ip_proba</th>\n",
       "    </tr>\n",
       "  </thead>\n",
       "  <tbody>\n",
       "    <tr>\n",
       "      <th>0</th>\n",
       "      <td>98.106.20.59</td>\n",
       "      <td>284579</td>\n",
       "      <td>0.523512</td>\n",
       "    </tr>\n",
       "    <tr>\n",
       "      <th>1</th>\n",
       "      <td>98.106.20.62</td>\n",
       "      <td>61662</td>\n",
       "      <td>0.113434</td>\n",
       "    </tr>\n",
       "    <tr>\n",
       "      <th>2</th>\n",
       "      <td>193.172.118.211</td>\n",
       "      <td>9029</td>\n",
       "      <td>0.016610</td>\n",
       "    </tr>\n",
       "    <tr>\n",
       "      <th>3</th>\n",
       "      <td>13.107.209.195</td>\n",
       "      <td>4219</td>\n",
       "      <td>0.007761</td>\n",
       "    </tr>\n",
       "    <tr>\n",
       "      <th>4</th>\n",
       "      <td>173.125.68.94</td>\n",
       "      <td>2980</td>\n",
       "      <td>0.005482</td>\n",
       "    </tr>\n",
       "  </tbody>\n",
       "</table>\n",
       "</div>"
      ],
      "text/plain": [
       "                ip  ip_count  ip_proba\n",
       "0     98.106.20.59    284579  0.523512\n",
       "1     98.106.20.62     61662  0.113434\n",
       "2  193.172.118.211      9029  0.016610\n",
       "3   13.107.209.195      4219  0.007761\n",
       "4    173.125.68.94      2980  0.005482"
      ]
     },
     "execution_count": 22,
     "metadata": {},
     "output_type": "execute_result"
    }
   ],
   "source": [
    "ip_df[ip_df.ip_proba > .005]"
   ]
  },
  {
   "cell_type": "code",
   "execution_count": 23,
   "metadata": {},
   "outputs": [
    {
     "data": {
      "text/plain": [
       "<matplotlib.axes._subplots.AxesSubplot at 0x12a37a110>"
      ]
     },
     "execution_count": 23,
     "metadata": {},
     "output_type": "execute_result"
    },
    {
     "data": {
      "image/png": "[encoded data removed]",
      "text/plain": [
       "<Figure size 1008x576 with 1 Axes>"
      ]
     },
     "metadata": {
      "needs_background": "light"
     },
     "output_type": "display_data"
    }
   ],
   "source": [
    "sns.distplot(ip_df.ip_count[ip_df.ip_proba > .005])"
   ]
  },
  {
   "cell_type": "code",
   "execution_count": 24,
   "metadata": {},
   "outputs": [],
   "source": [
    "train = df[df.index.year <= 2019]"
   ]
  },
  {
   "cell_type": "code",
   "execution_count": 25,
   "metadata": {},
   "outputs": [
    {
     "data": {
      "text/html": [
       "<div>\n",
       "<style scoped>\n",
       "    .dataframe tbody tr th:only-of-type {\n",
       "        vertical-align: middle;\n",
       "    }\n",
       "\n",
       "    .dataframe tbody tr th {\n",
       "        vertical-align: top;\n",
       "    }\n",
       "\n",
       "    .dataframe thead th {\n",
       "        text-align: right;\n",
       "    }\n",
       "</style>\n",
       "<table border=\"1\" class=\"dataframe\">\n",
       "  <thead>\n",
       "    <tr style=\"text-align: right;\">\n",
       "      <th></th>\n",
       "      <th>ip</th>\n",
       "      <th>ip_proba</th>\n",
       "    </tr>\n",
       "  </thead>\n",
       "  <tbody>\n",
       "    <tr>\n",
       "      <th>0</th>\n",
       "      <td>98.106.20.59</td>\n",
       "      <td>0.576920</td>\n",
       "    </tr>\n",
       "    <tr>\n",
       "      <th>1</th>\n",
       "      <td>98.106.20.62</td>\n",
       "      <td>0.146149</td>\n",
       "    </tr>\n",
       "    <tr>\n",
       "      <th>2</th>\n",
       "      <td>193.172.118.211</td>\n",
       "      <td>0.019928</td>\n",
       "    </tr>\n",
       "    <tr>\n",
       "      <th>3</th>\n",
       "      <td>71.123.41.63</td>\n",
       "      <td>0.003171</td>\n",
       "    </tr>\n",
       "    <tr>\n",
       "      <th>4</th>\n",
       "      <td>67.70.109.118</td>\n",
       "      <td>0.002842</td>\n",
       "    </tr>\n",
       "    <tr>\n",
       "      <th>...</th>\n",
       "      <td>...</td>\n",
       "      <td>...</td>\n",
       "    </tr>\n",
       "    <tr>\n",
       "      <th>2737</th>\n",
       "      <td>73.191.183.109</td>\n",
       "      <td>0.000002</td>\n",
       "    </tr>\n",
       "    <tr>\n",
       "      <th>2738</th>\n",
       "      <td>135.197.45.27</td>\n",
       "      <td>0.000002</td>\n",
       "    </tr>\n",
       "    <tr>\n",
       "      <th>2739</th>\n",
       "      <td>105.238.81.107</td>\n",
       "      <td>0.000002</td>\n",
       "    </tr>\n",
       "    <tr>\n",
       "      <th>2740</th>\n",
       "      <td>173.59.110.31</td>\n",
       "      <td>0.000002</td>\n",
       "    </tr>\n",
       "    <tr>\n",
       "      <th>2741</th>\n",
       "      <td>72.79.145.163</td>\n",
       "      <td>0.000002</td>\n",
       "    </tr>\n",
       "  </tbody>\n",
       "</table>\n",
       "<p>2742 rows × 2 columns</p>\n",
       "</div>"
      ],
      "text/plain": [
       "                   ip  ip_proba\n",
       "0        98.106.20.59  0.576920\n",
       "1        98.106.20.62  0.146149\n",
       "2     193.172.118.211  0.019928\n",
       "3        71.123.41.63  0.003171\n",
       "4       67.70.109.118  0.002842\n",
       "...               ...       ...\n",
       "2737   73.191.183.109  0.000002\n",
       "2738    135.197.45.27  0.000002\n",
       "2739   105.238.81.107  0.000002\n",
       "2740    173.59.110.31  0.000002\n",
       "2741    72.79.145.163  0.000002\n",
       "\n",
       "[2742 rows x 2 columns]"
      ]
     },
     "execution_count": 25,
     "metadata": {},
     "output_type": "execute_result"
    }
   ],
   "source": [
    "ip_df = pd.DataFrame(train.ip.value_counts(dropna=False)/\\\n",
    "                     train.ip.count()).reset_index().rename(index=str, \n",
    "                        columns={'index': 'ip', 'ip': 'ip_proba'})\n",
    "ip_df"
   ]
  },
  {
   "cell_type": "code",
   "execution_count": 26,
   "metadata": {},
   "outputs": [
    {
     "data": {
      "text/plain": [
       "0.576920    284579\n",
       "0.146149     61662\n",
       "0.000000     53904\n",
       "0.019928      9029\n",
       "0.000069      4728\n",
       "             ...  \n",
       "0.000216        91\n",
       "0.000199        88\n",
       "0.000204        86\n",
       "0.000180        82\n",
       "0.000187        79\n",
       "Name: ip_proba, Length: 286, dtype: int64"
      ]
     },
     "execution_count": 26,
     "metadata": {},
     "output_type": "execute_result"
    }
   ],
   "source": [
    "df = df.reset_index().merge(ip_df, on=['ip'], how='left')\\\n",
    "        .fillna(value=0).set_index('datetime')\n",
    "df.ip_proba.value_counts()"
   ]
  },
  {
   "cell_type": "code",
   "execution_count": 27,
   "metadata": {},
   "outputs": [
    {
     "data": {
      "text/html": [
       "<div>\n",
       "<style scoped>\n",
       "    .dataframe tbody tr th:only-of-type {\n",
       "        vertical-align: middle;\n",
       "    }\n",
       "\n",
       "    .dataframe tbody tr th {\n",
       "        vertical-align: top;\n",
       "    }\n",
       "\n",
       "    .dataframe thead th {\n",
       "        text-align: right;\n",
       "    }\n",
       "</style>\n",
       "<table border=\"1\" class=\"dataframe\">\n",
       "  <thead>\n",
       "    <tr style=\"text-align: right;\">\n",
       "      <th></th>\n",
       "      <th>destination</th>\n",
       "      <th>user</th>\n",
       "      <th>uk</th>\n",
       "      <th>ip</th>\n",
       "      <th>ip_proba</th>\n",
       "    </tr>\n",
       "    <tr>\n",
       "      <th>datetime</th>\n",
       "      <th></th>\n",
       "      <th></th>\n",
       "      <th></th>\n",
       "      <th></th>\n",
       "      <th></th>\n",
       "    </tr>\n",
       "  </thead>\n",
       "  <tbody>\n",
       "    <tr>\n",
       "      <th>2018-01-26 09:55:03</th>\n",
       "      <td>/</td>\n",
       "      <td>1</td>\n",
       "      <td>8.0</td>\n",
       "      <td>98.106.20.62</td>\n",
       "      <td>0.146149</td>\n",
       "    </tr>\n",
       "    <tr>\n",
       "      <th>2018-01-26 09:56:02</th>\n",
       "      <td>java-ii</td>\n",
       "      <td>1</td>\n",
       "      <td>8.0</td>\n",
       "      <td>98.106.20.62</td>\n",
       "      <td>0.146149</td>\n",
       "    </tr>\n",
       "    <tr>\n",
       "      <th>2018-01-26 09:56:05</th>\n",
       "      <td>java-ii/object-oriented-programming</td>\n",
       "      <td>1</td>\n",
       "      <td>8.0</td>\n",
       "      <td>98.106.20.62</td>\n",
       "      <td>0.146149</td>\n",
       "    </tr>\n",
       "    <tr>\n",
       "      <th>2018-01-26 09:56:06</th>\n",
       "      <td>slides/object_oriented_programming</td>\n",
       "      <td>1</td>\n",
       "      <td>8.0</td>\n",
       "      <td>98.106.20.62</td>\n",
       "      <td>0.146149</td>\n",
       "    </tr>\n",
       "    <tr>\n",
       "      <th>2018-01-26 09:56:24</th>\n",
       "      <td>javascript-i/conditionals</td>\n",
       "      <td>2</td>\n",
       "      <td>22.0</td>\n",
       "      <td>98.106.20.62</td>\n",
       "      <td>0.146149</td>\n",
       "    </tr>\n",
       "    <tr>\n",
       "      <th>...</th>\n",
       "      <td>...</td>\n",
       "      <td>...</td>\n",
       "      <td>...</td>\n",
       "      <td>...</td>\n",
       "      <td>...</td>\n",
       "    </tr>\n",
       "    <tr>\n",
       "      <th>2020-05-15 15:01:40</th>\n",
       "      <td>java-ii/file-io</td>\n",
       "      <td>602</td>\n",
       "      <td>56.0</td>\n",
       "      <td>48.188.241.68</td>\n",
       "      <td>0.000000</td>\n",
       "    </tr>\n",
       "    <tr>\n",
       "      <th>2020-05-15 15:01:54</th>\n",
       "      <td>9-timeseries/3-prep</td>\n",
       "      <td>582</td>\n",
       "      <td>55.0</td>\n",
       "      <td>48.135.163.38</td>\n",
       "      <td>0.000000</td>\n",
       "    </tr>\n",
       "    <tr>\n",
       "      <th>2020-05-15 15:03:37</th>\n",
       "      <td>jquery/ajax/requests-and-responses</td>\n",
       "      <td>637</td>\n",
       "      <td>57.0</td>\n",
       "      <td>71.121.18.17</td>\n",
       "      <td>0.000000</td>\n",
       "    </tr>\n",
       "    <tr>\n",
       "      <th>2020-05-15 15:05:14</th>\n",
       "      <td>10-anomaly-detection/3-discrete-probabilistic-...</td>\n",
       "      <td>11</td>\n",
       "      <td>28.0</td>\n",
       "      <td>77.186.132.227</td>\n",
       "      <td>0.002124</td>\n",
       "    </tr>\n",
       "    <tr>\n",
       "      <th>2020-05-15 15:06:05</th>\n",
       "      <td>examples/javascript/blog.json</td>\n",
       "      <td>643</td>\n",
       "      <td>57.0</td>\n",
       "      <td>174.175.131.39</td>\n",
       "      <td>0.000000</td>\n",
       "    </tr>\n",
       "  </tbody>\n",
       "</table>\n",
       "<p>543596 rows × 5 columns</p>\n",
       "</div>"
      ],
      "text/plain": [
       "                                                           destination  user  \\\n",
       "datetime                                                                       \n",
       "2018-01-26 09:55:03                                                  /     1   \n",
       "2018-01-26 09:56:02                                            java-ii     1   \n",
       "2018-01-26 09:56:05                java-ii/object-oriented-programming     1   \n",
       "2018-01-26 09:56:06                 slides/object_oriented_programming     1   \n",
       "2018-01-26 09:56:24                          javascript-i/conditionals     2   \n",
       "...                                                                ...   ...   \n",
       "2020-05-15 15:01:40                                    java-ii/file-io   602   \n",
       "2020-05-15 15:01:54                                9-timeseries/3-prep   582   \n",
       "2020-05-15 15:03:37                 jquery/ajax/requests-and-responses   637   \n",
       "2020-05-15 15:05:14  10-anomaly-detection/3-discrete-probabilistic-...    11   \n",
       "2020-05-15 15:06:05                      examples/javascript/blog.json   643   \n",
       "\n",
       "                       uk              ip  ip_proba  \n",
       "datetime                                             \n",
       "2018-01-26 09:55:03   8.0    98.106.20.62  0.146149  \n",
       "2018-01-26 09:56:02   8.0    98.106.20.62  0.146149  \n",
       "2018-01-26 09:56:05   8.0    98.106.20.62  0.146149  \n",
       "2018-01-26 09:56:06   8.0    98.106.20.62  0.146149  \n",
       "2018-01-26 09:56:24  22.0    98.106.20.62  0.146149  \n",
       "...                   ...             ...       ...  \n",
       "2020-05-15 15:01:40  56.0   48.188.241.68  0.000000  \n",
       "2020-05-15 15:01:54  55.0   48.135.163.38  0.000000  \n",
       "2020-05-15 15:03:37  57.0    71.121.18.17  0.000000  \n",
       "2020-05-15 15:05:14  28.0  77.186.132.227  0.002124  \n",
       "2020-05-15 15:06:05  57.0  174.175.131.39  0.000000  \n",
       "\n",
       "[543596 rows x 5 columns]"
      ]
     },
     "execution_count": 27,
     "metadata": {},
     "output_type": "execute_result"
    }
   ],
   "source": [
    "df"
   ]
  },
  {
   "cell_type": "code",
   "execution_count": 28,
   "metadata": {},
   "outputs": [],
   "source": [
    "test = df[df.index.year==2020]"
   ]
  },
  {
   "cell_type": "code",
   "execution_count": 29,
   "metadata": {},
   "outputs": [
    {
     "data": {
      "text/plain": [
       "51"
      ]
     },
     "execution_count": 29,
     "metadata": {},
     "output_type": "execute_result"
    }
   ],
   "source": [
    "len(df.user[df.uk == 0].value_counts())"
   ]
  },
  {
   "cell_type": "code",
   "execution_count": 31,
   "metadata": {},
   "outputs": [],
   "source": [
    "# def get_topic(destination):\n",
    "#     ds_list = [\"python\", \"time series\", \"nlp\"]\n",
    "#     web_dev = [\"javascript\", \"java\", \"css\"]\n",
    "#     for ds in ds_list:\n",
    "#         if ds in destination:\n",
    "#             return \"Data Science\"\n",
    "#     for wd in web_dev:\n",
    "#         if wd in destination:\n",
    "#             return \"Web Dev\"\n",
    "#     return \"Unknown\"\n",
    "# df[\"course\"] = df.destination.apply(get_topic)"
   ]
  },
  {
   "cell_type": "code",
   "execution_count": null,
   "metadata": {},
   "outputs": [],
   "source": []
  }
 ],
 "metadata": {
  "kernelspec": {
   "display_name": "Python 3",
   "language": "python",
   "name": "python3"
  },
  "language_info": {
   "codemirror_mode": {
    "name": "ipython",
    "version": 3
   },
   "file_extension": ".py",
   "mimetype": "text/x-python",
   "name": "python",
   "nbconvert_exporter": "python",
   "pygments_lexer": "ipython3",
   "version": "3.7.4"
  }
 },
 "nbformat": 4,
 "nbformat_minor": 2
}
